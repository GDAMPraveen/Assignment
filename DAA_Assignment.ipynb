{
  "cells": [
    {
      "cell_type": "markdown",
      "metadata": {
        "id": "view-in-github",
        "colab_type": "text"
      },
      "source": [
        "<a href=\"https://colab.research.google.com/github/GDAMPraveen/Assignment/blob/main/DAA_Assignment.ipynb\" target=\"_parent\"><img src=\"https://colab.research.google.com/assets/colab-badge.svg\" alt=\"Open In Colab\"/></a>"
      ]
    },
    {
      "cell_type": "code",
      "execution_count": 1,
      "metadata": {
        "id": "iYKKjvbaOdLu"
      },
      "outputs": [],
      "source": [
        "import time\n",
        "import random\n",
        "import pandas as pd\n",
        "import heapq\n",
        "import sys\n",
        "import numpy as np\n",
        "\n",
        "# Increase recursion limit for large quick/merge sorts\n",
        "sys.setrecursionlimit(1000000)\n",
        "\n",
        "# Merge Sort\n",
        "def merge_sort(arr):\n",
        "    if len(arr) <= 1:\n",
        "        return arr\n",
        "    mid = len(arr) // 2\n",
        "    left = merge_sort(arr[:mid])\n",
        "    right = merge_sort(arr[mid:])\n",
        "    return merge(left, right)\n",
        "\n",
        "def merge(left, right):\n",
        "    result = []\n",
        "    i = j = 0\n",
        "    while i < len(left) and j < len(right):\n",
        "        if left[i] < right[j]:\n",
        "            result.append(left[i])\n",
        "            i += 1\n",
        "        else:\n",
        "            result.append(right[j])\n",
        "            j += 1\n",
        "    result.extend(left[i:])\n",
        "    result.extend(right[j:])\n",
        "    return result\n",
        "\n",
        "# Quick Sort\n",
        "def quick_sort(arr):\n",
        "    if len(arr) <= 1:\n",
        "        return arr\n",
        "    pivot = arr[0]\n",
        "    less = [x for x in arr[1:] if x <= pivot]\n",
        "    greater = [x for x in arr[1:] if x > pivot]\n",
        "    return quick_sort(less) + [pivot] + quick_sort(greater)\n",
        "\n",
        "# Heap Sort\n",
        "def heap_sort(arr):\n",
        "    a = arr.copy()\n",
        "    heapq.heapify(a)\n",
        "    return [heapq.heappop(a) for _ in range(len(a))]\n",
        "\n",
        "# Measure execution time in milliseconds\n",
        "def measure_time(func, arr):\n",
        "    start = time.perf_counter()\n",
        "    func(arr)\n",
        "    end = time.perf_counter()\n",
        "    return round((end - start) * 1000, 3)  # milliseconds"
      ]
    },
    {
      "cell_type": "code",
      "execution_count": 2,
      "metadata": {
        "colab": {
          "base_uri": "https://localhost:8080/"
        },
        "id": "EyzXq5QNOi7B",
        "outputId": "010d4a7c-7721-4221-f552-dcf0ae74e6e5"
      },
      "outputs": [
        {
          "output_type": "stream",
          "name": "stdout",
          "text": [
            "Testing with input size: 10000\n",
            "Testing with input size: 20000\n",
            "Testing with input size: 50000\n",
            "Testing with input size: 100000\n",
            " Input Size (n)  Merge Sort (ms)  Quick Sort (ms)  Heap Sort (ms)  Built-in Sort (ms)\n",
            "          10000           46.994           29.778           6.379               2.485\n",
            "          20000           94.676           74.430          17.210               5.226\n",
            "          50000          262.834          218.260          99.899              44.238\n",
            "         100000          798.916          247.818          64.565              33.405\n"
          ]
        }
      ],
      "source": [
        "# Input sizes to test\n",
        "input_sizes = [10000, 20000, 50000, 100000]\n",
        "results = []\n",
        "\n",
        "for n in input_sizes:\n",
        "    arr = np.random.randint(0, 1000000, size=n).tolist()\n",
        "    print(f\"Testing with input size: {n}\")\n",
        "    results.append({\n",
        "        \"Input Size (n)\": n,\n",
        "        \"Merge Sort (ms)\": measure_time(merge_sort, arr),\n",
        "        \"Quick Sort (ms)\": measure_time(quick_sort, arr),\n",
        "        \"Heap Sort (ms)\": measure_time(heap_sort, arr),\n",
        "        \"Built-in Sort (ms)\": measure_time(sorted, arr),\n",
        "    })\n",
        "\n",
        "# Create and display results table\n",
        "df = pd.DataFrame(results)\n",
        "print(df.to_string(index=False))\n"
      ]
    },
    {
      "cell_type": "markdown",
      "source": [
        "# **Sorting Algorithm and Time Comparison**"
      ],
      "metadata": {
        "id": "xKJodiYhM43j"
      }
    },
    {
      "cell_type": "code",
      "source": [
        "import time\n",
        "import random\n",
        "import pandas as pd\n",
        "import heapq\n",
        "import sys\n",
        "import numpy as np\n",
        "\n",
        "sys.setrecursionlimit(1000000)\n",
        "\n",
        "# Sorting Algorithms\n",
        "def bubble_sort(arr):\n",
        "    a = arr.copy()\n",
        "    n = len(a)\n",
        "    for i in range(n):\n",
        "        for j in range(0, n - i - 1):\n",
        "            if a[j] > a[j + 1]:\n",
        "                a[j], a[j + 1] = a[j + 1], a[j]\n",
        "    return a\n",
        "\n",
        "def selection_sort(arr):\n",
        "    a = arr.copy()\n",
        "    n = len(a)\n",
        "    for i in range(n):\n",
        "        min_idx = i\n",
        "        for j in range(i + 1, n):\n",
        "            if a[j] < a[min_idx]:\n",
        "                min_idx = j\n",
        "        a[i], a[min_idx] = a[min_idx], a[i]\n",
        "    return a\n",
        "\n",
        "def insertion_sort(arr):\n",
        "    a = arr.copy()\n",
        "    for i in range(1, len(a)):\n",
        "        key = a[i]\n",
        "        j = i - 1\n",
        "        while j >= 0 and a[j] > key:\n",
        "            a[j + 1] = a[j]\n",
        "            j -= 1\n",
        "        a[j + 1] = key\n",
        "    return a\n",
        "\n",
        "def merge_sort(arr):\n",
        "    if len(arr) <= 1:\n",
        "        return arr\n",
        "    mid = len(arr) // 2\n",
        "    left = merge_sort(arr[:mid])\n",
        "    right = merge_sort(arr[mid:])\n",
        "    return merge(left, right)\n",
        "\n",
        "def merge(left, right):\n",
        "    result = []\n",
        "    i = j = 0\n",
        "    while i < len(left) and j < len(right):\n",
        "        if left[i] < right[j]:\n",
        "            result.append(left[i])\n",
        "            i += 1\n",
        "        else:\n",
        "            result.append(right[j])\n",
        "            j += 1\n",
        "    result.extend(left[i:])\n",
        "    result.extend(right[j:])\n",
        "    return result\n",
        "\n",
        "def quick_sort(arr):\n",
        "    if len(arr) <= 1:\n",
        "        return arr\n",
        "    pivot = arr[0]\n",
        "    less = [x for x in arr[1:] if x <= pivot]\n",
        "    greater = [x for x in arr[1:] if x > pivot]\n",
        "    return quick_sort(less) + [pivot] + quick_sort(greater)\n",
        "\n",
        "def heap_sort(arr):\n",
        "    a = arr.copy()\n",
        "    heapq.heapify(a)\n",
        "    return [heapq.heappop(a) for _ in range(len(a))]\n",
        "\n",
        "# Time measurement in milliseconds\n",
        "def measure_time(func, arr):\n",
        "    start = time.perf_counter()\n",
        "    func(arr)\n",
        "    end = time.perf_counter()\n",
        "    return round((end - start) * 1000, 3)"
      ],
      "metadata": {
        "id": "OF3lipvpMrMW"
      },
      "execution_count": 5,
      "outputs": []
    },
    {
      "cell_type": "code",
      "source": [
        "# Input sizes for naive and efficient algorithms\n",
        "naive_sizes = [1000, 2000, 3000, 4000, 5000]\n",
        "efficient_sizes = [10000, 20000, 50000, 100000]\n",
        "\n",
        "# Store all results\n",
        "results = []\n",
        "\n",
        "# Naive algorithms\n",
        "for n in naive_sizes:\n",
        "    arr = np.random.randint(0, 100000, size=n).tolist()\n",
        "    print(f\"Testing (naive) input size: {n}\")\n",
        "    results.append({\n",
        "        \"Input Size (n)\": n,\n",
        "        \"Bubble Sort (ms)\": measure_time(bubble_sort, arr),\n",
        "        \"Selection Sort (ms)\": measure_time(selection_sort, arr),\n",
        "        \"Insertion Sort (ms)\": measure_time(insertion_sort, arr),\n",
        "        \"Merge Sort (ms)\": measure_time(merge_sort, arr),\n",
        "        \"Quick Sort (ms)\": measure_time(quick_sort, arr),\n",
        "        \"Heap Sort (ms)\": measure_time(heap_sort, arr),\n",
        "    })\n",
        "\n",
        "# Efficient algorithms only\n",
        "for n in efficient_sizes:\n",
        "    arr = np.random.randint(0, 1000000, size=n).tolist()\n",
        "    print(f\"Testing (efficient) input size: {n}\")\n",
        "    results.append({\n",
        "        \"Input Size (n)\": n,\n",
        "        \"Bubble Sort (ms)\": \"Too Slow\",\n",
        "        \"Selection Sort (ms)\": \"Too Slow\",\n",
        "        \"Insertion Sort (ms)\": \"Too Slow\",\n",
        "        \"Merge Sort (ms)\": measure_time(merge_sort, arr),\n",
        "        \"Quick Sort (ms)\": measure_time(quick_sort, arr),\n",
        "        \"Heap Sort (ms)\": measure_time(heap_sort, arr),\n",
        "    })\n",
        "\n",
        "# Create and display DataFrame\n",
        "df = pd.DataFrame(results)\n",
        "print(\"\\nFinal Comparison Table:\")\n",
        "print(df.to_string(index=False))\n",
        "\n",
        "# Optional: save to CSV\n",
        "df.to_csv(\"sorting_comparison.csv\", index=False)"
      ],
      "metadata": {
        "colab": {
          "base_uri": "https://localhost:8080/"
        },
        "id": "C7igWrCCJupV",
        "outputId": "89ec72c1-b384-498e-f85a-0dc9dd5f1aee"
      },
      "execution_count": 6,
      "outputs": [
        {
          "output_type": "stream",
          "name": "stdout",
          "text": [
            "Testing (naive) input size: 1000\n",
            "Testing (naive) input size: 2000\n",
            "Testing (naive) input size: 3000\n",
            "Testing (naive) input size: 4000\n",
            "Testing (naive) input size: 5000\n",
            "Testing (efficient) input size: 10000\n",
            "Testing (efficient) input size: 20000\n",
            "Testing (efficient) input size: 50000\n",
            "Testing (efficient) input size: 100000\n",
            "\n",
            "Final Comparison Table:\n",
            " Input Size (n) Bubble Sort (ms) Selection Sort (ms) Insertion Sort (ms)  Merge Sort (ms)  Quick Sort (ms)  Heap Sort (ms)\n",
            "           1000           57.144              22.591              20.106            1.889            1.584           0.319\n",
            "           2000          198.405              90.147              84.924            4.008            3.225           0.702\n",
            "           3000          470.154             202.928             187.647            6.228            4.884           1.099\n",
            "           4000          816.569             359.863             355.199            8.775            6.904           2.084\n",
            "           5000         1282.519             577.466             542.011           11.103            9.021           1.880\n",
            "          10000         Too Slow            Too Slow            Too Slow           24.214           18.368           4.126\n",
            "          20000         Too Slow            Too Slow            Too Slow           52.449           39.334           8.867\n",
            "          50000         Too Slow            Too Slow            Too Slow          147.018          110.338          42.876\n",
            "         100000         Too Slow            Too Slow            Too Slow          521.233          384.309         118.930\n"
          ]
        }
      ]
    }
  ],
  "metadata": {
    "colab": {
      "provenance": [],
      "authorship_tag": "ABX9TyNF6Cc11Q9uds/Z4a8EeUzj",
      "include_colab_link": true
    },
    "kernelspec": {
      "display_name": "Python 3",
      "name": "python3"
    },
    "language_info": {
      "name": "python"
    }
  },
  "nbformat": 4,
  "nbformat_minor": 0
}